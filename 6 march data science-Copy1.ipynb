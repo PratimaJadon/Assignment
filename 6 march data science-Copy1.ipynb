{
 "cells": [
  {
   "cell_type": "code",
   "execution_count": null,
   "id": "8fa9d3ad",
   "metadata": {},
   "outputs": [],
   "source": [
    "6 MARCH , 2023                       Introduction to Stastics            "
   ]
  },
  {
   "cell_type": "markdown",
   "id": "58fac8d8",
   "metadata": {},
   "source": [
    "Q1. What is Statistics?\n",
    "\n",
    "\n",
    "statistics is the science of collecting , organisation and analyzing of data for decision making process.\n"
   ]
  },
  {
   "cell_type": "markdown",
   "id": "952a091e",
   "metadata": {},
   "source": [
    "Q2. Define the different types of statistics and give an example of when each type might be used.\n",
    "  The two main types of statistics are:\n",
    "\n",
    "  Descriptive Statistics\n",
    "  Inferential Statistics\n",
    "Descriptive Statistics – Through graphs or tables, or numerical calculations, descriptive statistics uses the data to provide descriptions of the population.\n",
    "eg.it summarises the data\n",
    "\n",
    "Inferential Statistics – Based on the data sample taken from the population, inferential statistics makes the predictions and inferences.\n",
    "eg. it is used to make prediction from sample and make conclusion for population data."
   ]
  },
  {
   "cell_type": "markdown",
   "id": "6d4f0b07",
   "metadata": {},
   "source": [
    "Q3. What are the different types of data and how do they differ from each other? Provide an example of\n",
    "each type of data.\n",
    "There are mainly two types of data a) Quantitive data    b) Qualitative data\n",
    "Quantitative Data Type-\n",
    "This data type tries to quantify things and it does by considering numerical values that make it countable in nature.\n",
    "It is of two types -- a.1 Discrete data -The numerical values which fall under are integers or whole numbers are placed under                                            this category. \n",
    "                      a.2 Continuous data- The fractional numbers are considered as continuous values.\n",
    "                      \n",
    "                      \n",
    "Qualitative Data Type\n",
    "Qualitative or Categorical Data describes the object under consideration using a finite set of discrete classes.    \n",
    "It is of two types-- b.1 Nominal data  - order doesnot matters here eg. gender ,colors \n",
    "                     b.2 Ordinal data - orders matters here , differences can be measured eg. reviews as good ,better and bad.\n"
   ]
  },
  {
   "cell_type": "markdown",
   "id": "a05f0be7",
   "metadata": {},
   "source": [
    "Q4. Categorise the following datasets with respect to quantitative and qualitative data types:\n",
    "(i) Grading in exam: A+, A, B+, B, C+, C, D, E                                        -- Ordinal data type\n",
    "(ii) Colour of mangoes: yellow, green, orange, red                                    -- Nominal \n",
    "(iii) Height data of a class: [178.9, 179, 179.5, 176, 177.2, 178.3, 175.8,...]        --  continuous\n",
    "(iv) Number of mangoes exported by a farm: [500, 600, 478, 672, ...]                   --  Discrete"
   ]
  },
  {
   "cell_type": "markdown",
   "id": "3a4b07e4",
   "metadata": {},
   "source": [
    "Q5. Explain the concept of levels of measurement and give an example of a variable for each level.\n",
    "Level of measurement is important as it determines the type of statistical analysis you can carry out.\n",
    "There are four levels of measurement (or scales) to be aware of: nominal, ordinal, interval, and ratio.\n",
    "1) Nominal - it categorizes variables according to qualitative labels .\n",
    "2)The ordinal scale also categorizes variables into labeled groups, and these categories have an order or hierarchy to them.\n",
    "   Ranking matters here but differences cannot measures.\n",
    "   eg. low income, medium income, high income.\n",
    "   \n",
    "3) The interval scale is a numerical scale which labels and orders variables, with a known, evenly spaced interval between each    of the values.\n",
    "  eg. temperature in Fahrenheit, where the difference between 10 and 20 is defined.\n",
    "  \n",
    "4)The ratio scale is exactly the same as the interval scale, with one key difference: The ratio scale has what’s known as a “true zero.” A good example of ratio data is weight in kilograms. If something weighs zero kilograms, it truly weighs nothing\n"
   ]
  },
  {
   "cell_type": "markdown",
   "id": "1b4458d0",
   "metadata": {},
   "source": [
    "Q6. Why is it important to understand the level of measurement when analyzing data? Provide an\n",
    "example to illustrate your answer.\n",
    "Level of measurement is important as it determines the type of statistical analysis you can carry out. \n",
    "As a result, it affects both the nature and the depth of insights you’re able to get  from your data. Certain statistical tests can only be performed where more precise levels of measurement have been used, so it’s essential to plan in advance how you’ll gather and measure your data."
   ]
  },
  {
   "cell_type": "markdown",
   "id": "303c5024",
   "metadata": {},
   "source": [
    "Q7. How nominal data type is different from ordinal data type.\n",
    "Nominal and ordinal data are grouped into categories and they are called categorical or qualitative type of data. \n",
    "One marked difference between nominal data and ordinal data is that nominal data does not follow an order or sequence whereas ordinal data follows an order or sequence."
   ]
  },
  {
   "cell_type": "markdown",
   "id": "69a7232c",
   "metadata": {},
   "source": [
    "Q8. Which type of plot can be used to display data in terms of range?\n",
    "Histogram\n",
    "Bar graph \n",
    "pie chart\n",
    "scatter plot\n"
   ]
  },
  {
   "cell_type": "markdown",
   "id": "0ed4ba59",
   "metadata": {},
   "source": [
    "Q9. Describe the difference between descriptive and inferential statistics. Give an example of each\n",
    "type of statistics and explain how they are used.\\\n",
    "\n",
    " \tDescriptive Statistics\tvs  Inferential Statistics\n",
    "1.\tIt gives information about raw data which describes the data in some manner while It makes inferences about the population using data drawn from the population.\n",
    "2.\tIt helps in organizing, analyzing, and to present data in a meaningful manner while inferentitial allows us to compare data, and make hypotheses and predictions.\n",
    "3.\tIt is used to describe a situationis while inferentitial is used to explain the chance of occurrence of an event.\n",
    "4.\tIt explains already known data and is limited to a sample or population having a small sizewhile inferentitial  attempts to reach the conclusion about the population.\n",
    "5.\tIt can be achieved with the help of charts, graphs, tables, etc  while inferentile  can be achieved by probability."
   ]
  },
  {
   "cell_type": "markdown",
   "id": "9e24c828",
   "metadata": {},
   "source": [
    "Q10. What are some common measures of central tendency and variability used in statistics? Explain\n",
    "how each measure can be used to describe a dataset.\n",
    " There are three common measures of central tendency:\n",
    " The mean \n",
    " The median\n",
    " The mode\n",
    " \n",
    "Mean\n",
    "The most commonly used measure of central tendency is the mean. To calculate the mean of a dataset, you simply add up all of the individual values and divide by the total number of values.\n",
    "\n",
    "Mean = (sum of all values) / (total # of values)\n",
    "\n",
    "\n",
    "Median\n",
    "The median is the middle value in a dataset. You can find the median by arranging all the individual values in a dataset from smallest to largest and finding the middle value. If there are an odd number of values, the median is the middle value. If there are an even number of values, the median is the average of the two middle values.\n",
    "\n",
    "\n",
    "The Mode\n",
    "The mode is the value that occurs most often in a dataset. A dataset can have no mode (if no value repeats), one mode, or multiple modes.\n",
    "\n"
   ]
  },
  {
   "cell_type": "code",
   "execution_count": null,
   "id": "83530e44",
   "metadata": {},
   "outputs": [],
   "source": []
  }
 ],
 "metadata": {
  "kernelspec": {
   "display_name": "Python 3 (ipykernel)",
   "language": "python",
   "name": "python3"
  },
  "language_info": {
   "codemirror_mode": {
    "name": "ipython",
    "version": 3
   },
   "file_extension": ".py",
   "mimetype": "text/x-python",
   "name": "python",
   "nbconvert_exporter": "python",
   "pygments_lexer": "ipython3",
   "version": "3.10.6"
  }
 },
 "nbformat": 4,
 "nbformat_minor": 5
}
