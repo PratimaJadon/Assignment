{
 "cells": [
  {
   "cell_type": "markdown",
   "id": "bfdef1a7",
   "metadata": {},
   "source": [
    "## Assignment       15 march               Introduction to ML"
   ]
  },
  {
   "cell_type": "markdown",
   "id": "a2a2d2be",
   "metadata": {},
   "source": [
    "#   Que 1 - Explain the following  with an example\n"
   ]
  },
  {
   "cell_type": "markdown",
   "id": "f60315ab",
   "metadata": {},
   "source": [
    "# Artificial Intelligence - \n",
    "(AI) is a branch of computer science that deals with the creation of intelligent machines that can perform tasks that typically require human intelligence. The goal of AI is to create algorithms and systems that can learn from data, reason, make predictions, and take actions.\n",
    "AI can be broadly classified into two:  \n",
    "1)Narrow AI: This type of AI is also referred to as “weak AI”. Narrow AI usually carries out one particular task with extremely high efficiency which mimics human intelligence. An example would be any computer game where one player is the user and the other player is the computer.\n",
    "2)Strong AI: Also referred to as “general AI”. Here is where there is no difference between a machine and a human being. This is the kind of AI we see in the movies, the robots. "
   ]
  },
  {
   "cell_type": "markdown",
   "id": "f3fcbe08",
   "metadata": {},
   "source": [
    "# 2) Machine Learning \n",
    "Machine Learning is the field of study that gives computers the capability to learn without being explicitly programmed. \n",
    "Image recognition\n",
    "Customer service reps\n",
    "Fraud detection\n",
    "Streaming recommendations\n"
   ]
  },
  {
   "cell_type": "markdown",
   "id": "e8b5be7c",
   "metadata": {},
   "source": [
    "# 3) Deep learning\n",
    "\n",
    "Deep learning is a branch of machine learning which is based on artificial neural networks. It is capable of learning complex patterns and relationships within data. \n",
    "These neural networks are inspired by the structure and function of the human brain’s biological neurons, and they are designed to learn from large amounts of data.\n",
    "eg. Driverless Vehicles\n",
    "Virtual Assistants\n",
    "chatbots\n",
    "Translations\n",
    "Medical Research\n",
    "facial recognition"
   ]
  },
  {
   "cell_type": "markdown",
   "id": "c43323c1",
   "metadata": {},
   "source": [
    "# Q2. What is supervised learning ? List some examples of Supervised Learning \n",
    "supervised learning is a type of machine learning in which the algorithm is trained on a labeled dataset, which means that the output (or target) variable is already known. The goal of supervised learning is to learn a function that can accurately predict the output variable based on the input variables.upervised learning is a type of machine learning in which the algorithm is trained on a labeled dataset, which means that the output (or target) variable is already known. The goal of supervised learning is to learn a function that can accurately predict the output variable based on the input variables.\n",
    "eg. Image- and object-recognition\n",
    "Customer sentiment analysis\n",
    "Spam detection\n"
   ]
  },
  {
   "cell_type": "markdown",
   "id": "1aa8f979",
   "metadata": {},
   "source": [
    "# Q3. What is Unsupervised learning ? List some examples of UnSupervised Learning\n",
    "Unsupervised learning is when it can provide a set of unlabelled data, which it is required to analyze and find patterns inside.\n",
    "The examples are dimension reduction and clustering. The training is supported to the machine with the group of data that has not been labeled, classified, or categorized, and the algorithm required to facilitate on that data without some supervision. The objective of unsupervised learning is to restructure the input record into new features or a set of objects with same patterns.\n",
    "eg. Astronomical data analysis\n",
    "Market segmentation\n",
    "Social network analysis\n",
    "Organize computing clusters\n",
    "\n"
   ]
  },
  {
   "cell_type": "markdown",
   "id": "8c5130c9",
   "metadata": {},
   "source": [
    "#  Q4.  What is the difference between AI ,ML ,DS, DL.\n",
    "Artificial Intelligence is a branch of computer science. It involves building smart machines capable of performing tasks that need human intelligence.\n",
    "These systems mimic human cognitive functions, allowing decision-making, and helping improve learning. AI-enabled systems also forecast financial and business outcomes and offer solutions for businesses. These machines interpret data to achieve business goals with greater precision and efficiency.\n",
    "\n",
    "\n",
    "Machine Learning is the subsection of artificial intelligence based on algorithms and data usage.\n",
    "Machine learning algorithms use computational methods and learn from the data without depending on any predetermined equation. It is an application of AI that allows systems to learn and improve from experience. \n",
    "\n",
    "\n",
    "Deep learning is a subfield of artificial intelligence. It uses a multi-layered structure of algorithms called a neural network. DL algorithms also need data to learn and solve problems. We can also call it a subfield of machine learning. \n",
    "\n",
    "\n",
    "Data science is a discipline that uses various technologies and methods to analyze data. It combines computational science, statistics, mathematics, and company or business knowledge.\n",
    "The main goal of data science is to find patterns in data. It uses various statistical techniques to analyze and extract information from the data. Data scientists can help companies make smarter business decisions through these valuable insights. \n"
   ]
  },
  {
   "cell_type": "markdown",
   "id": "dd376982",
   "metadata": {},
   "source": [
    "# Q5. What is the main Difference between Supervised learning ,Unsupervised Learning , Semisupervised learning.\n",
    "# Supervised Learning - \n",
    "The input data is labeled and the main task of the model is to either map the output with the input labels or when the input label is mapped as a continuous output. The former method is called classification and the latter is known as th regression.\n",
    "  Input data is labeled.\n",
    "Used for prediction and classification models.\n",
    "It takes direct feedback of the output.\n",
    "These models predict the output.\n",
    "It can be used in cases where we know the input and their respective outputs.\n",
    "\n",
    "# Unsupervised Learning - \n",
    "In unsupervised learning, the data is unlabeled and its goal is to find out the natural patterns present within data points in the given dataset.\n",
    "Input data is unlabeled.\n",
    "Used for extracting information from large amounts of data.\n",
    "Does not have a feedback mechanism.\n",
    "These models find underlying patterns in data.\n",
    "We can use these models where we only know the input data and do not have the knowledge of the corresponding output.\n",
    "\n",
    "\n",
    "# Semi-supervised \n",
    "Semi-supervised learning falls in-between supervised and unsupervised learning. Here, while training the model, the training dataset comprises of a small amount of labeled data and a large amount of unlabeled data. This can also be taken as an example for weak supervision.\n",
    "A large amount of input data is unlabeled while a small amount is labeled.\n",
    "It is used when labeling the whole dataset is expensive.\n",
    "It is a type of weak supervision.\n"
   ]
  },
  {
   "cell_type": "markdown",
   "id": "a1ecba40",
   "metadata": {},
   "source": [
    "# Q6- What is train, test and validation split? Explain the importance of each term.\n",
    "Training Set \n",
    "This is the actual dataset from which a model trains .i.e. the model sees and learns from this data to predict the outcome or to make the right decisions. Most of the training data is collected from several resources and then preprocessed and organized to provide proper performance of the model.\n",
    "\n",
    "Testing Set-\n",
    "This dataset is independent of the training set but has a somewhat similar type of probability distribution of classes and is used as a benchmark to evaluate the model, used only after the training of the model is complete. Testing set is usually a properly organized dataset having all kinds of data for scenarios that the model would probably be facing when used in the real world. \n",
    "\n",
    "\n",
    "Validation Set\n",
    "The validation set is used to fine-tune the hyperparameters of the model and is considered a part of the training of the model. The model only sees this data for evaluation but does not learn from this data, providing an objective unbiased evaluation of the model. \n",
    "\n"
   ]
  },
  {
   "cell_type": "markdown",
   "id": "437d83bd",
   "metadata": {},
   "source": [
    "# Q7.How can unsupervised learning be used in anomaly detection?\n",
    "Anomaly is a synonym for the word ‘outlier’. Anomaly detection (or outlier detection) is the identification of rare items, events or observations which raise suspicions by differing significantly from the majority of the data.\n",
    "Anomalous activities can be linked to some kind of problems or rare events such as bank fraud, medical problems, structural defects, malfunctioning equipment etc.\n",
    "\n",
    "In unsupervised anomaly detection, an unlabeled dataset is used. It assumes that the majority data points in the unlabeled dataset are “normal” and it looks for data points that differ from the “normal” data points2.\n",
    "\n",
    "There are many unsupervised learning algorithms that can be applied in many fields and are especially useful for anomaly detection. One of the most common algorithms is Density Based Scan Clustering (DBSCAN).\n"
   ]
  },
  {
   "cell_type": "markdown",
   "id": "d1426ada",
   "metadata": {},
   "source": [
    "# Q8- List down some commonly used supervised learning algorithms and unsupervised learning algorithms.\n",
    "Popular machine learning algorithms, including supervised and unsupervised learning. These algorithms include:\n",
    "\n",
    "1. Linear regression\n",
    "2. Logistic regression\n",
    "3. Support vector machine (SVM)\n",
    "4. K-nearest neighbor (KNN)\n",
    "5. Naive Bayes classification\n",
    "6. Decision tree\n",
    "7. Random forest\n",
    "8. K-means Clustering"
   ]
  },
  {
   "cell_type": "code",
   "execution_count": null,
   "id": "21b26b28",
   "metadata": {},
   "outputs": [],
   "source": []
  }
 ],
 "metadata": {
  "kernelspec": {
   "display_name": "Python 3 (ipykernel)",
   "language": "python",
   "name": "python3"
  },
  "language_info": {
   "codemirror_mode": {
    "name": "ipython",
    "version": 3
   },
   "file_extension": ".py",
   "mimetype": "text/x-python",
   "name": "python",
   "nbconvert_exporter": "python",
   "pygments_lexer": "ipython3",
   "version": "3.10.6"
  }
 },
 "nbformat": 4,
 "nbformat_minor": 5
}
