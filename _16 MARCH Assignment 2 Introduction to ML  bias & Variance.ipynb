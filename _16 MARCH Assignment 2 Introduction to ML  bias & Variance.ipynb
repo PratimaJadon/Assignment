{
 "cells": [
  {
   "cell_type": "markdown",
   "id": "fa1e9cdb",
   "metadata": {},
   "source": [
    "                                                            Assignment \n",
    "                                               \n",
    " # Q1: Define overfitting and underfitting in machine learning. What are the consequences of each, and how can they be mitigated?\n",
    "Overfitting occurs when our machine learning model tries to cover all the data points or more than the required data points present in the given dataset. Because of this, the model starts caching noise and inaccurate values present in the dataset, and all these factors reduce the efficiency and accuracy of the model. The overfitted model has low bias and high variance.\n",
    "The chances of occurrence of overfitting increase as much we provide training to our model. It means the more we train our model, the more chances of occurring the overfitted model.\n",
    "Overfitting is the main problem that occurs in supervised learning.\n",
    "\n",
    "To avoid the Overfitting in Model\n",
    "\n",
    "Both overfitting and underfitting cause the degraded performance of the machine learning model. But the main cause is overfitting, so there are some ways by which we can reduce the occurrence of overfitting in our model.\n",
    "Cross-Validation\n",
    "Training with more data\n",
    "Removing features\n",
    "Early stopping the training\n",
    "Regularization\n",
    "Ensembling\n",
    "\n",
    "Underfitting\n",
    "Underfitting occurs when our machine learning model is not able to capture the underlying trend of the data. To avoid the overfitting in the model, the fed of training data can be stopped at an early stage, due to which the model may not learn enough from the training data. As a result, it may fail to find the best fit of the dominant trend in the data.\n",
    "An underfitted model has high bias and low variance.\n",
    "How to avoid underfitting:\n",
    "By increasing the training time of the model.\n",
    "By increasing the number of features."
   ]
  },
  {
   "cell_type": "markdown",
   "id": "0dd92342",
   "metadata": {},
   "source": [
    "# Q2: How can we reduce overfitting? Explain in brief.\n",
    "some of the ways to prevent overfitting:\n",
    " 1.The data simplification method is used to reduce overfitting by decreasing the complexity of the model to make it simple enough that it does not overfit.\n",
    "\n",
    "Some of the actions that can be implemented include pruning a decision tree, reducing the number of parameters in a neural network, and using dropout on a neutral network. \n",
    "\n",
    "\n",
    "2. Ensembling is a machine learning technique that works by combining predictions from two or more separate models. The most popular ensembling methods include boosting and bagging.\n",
    "\n",
    "3. Training with more data is data augmentation, which is less expensive compared to the former. If you are unable to continually collect more data, you can make the available data sets appear diverse.\n",
    " Data augmentation makes a sample data look slightly different every time it is processed by the model.\n",
    " \n",
    " \n",
    " Cross-Validation,\n",
    "Training with more data,\n",
    "Removing features,\n",
    "Early stopping the training,\n",
    "Regularization,\n",
    "Ensembling."
   ]
  },
  {
   "cell_type": "markdown",
   "id": "433d514a",
   "metadata": {},
   "source": [
    "# Q3: Explain underfitting. List scenarios where underfitting can occur in ML.\n",
    " statistical model or a machine learning algorithm is said to have underfitting when it cannot capture the underlying trend of \n",
    " the data, i.e., it only performs well on training data but performs poorly on testing data.\n",
    " Underfitting destroys the accuracy of our machine learning model. Its occurrence simply means that our model or the algorithm does not fit the data well enough. It usually happens when we have fewer data to build an accurate model and also when we try to build a linear model with fewer non-linear data.\n",
    " Techniques to reduce underfitting: \n",
    "\n",
    "1. Increase model complexity\n",
    "2.Increase the number of features, performing feature engineering\n",
    "3.Remove noise from the data.\n",
    "4.Increase the number of epochs or increase the duration of training to get better results."
   ]
  },
  {
   "cell_type": "markdown",
   "id": "b4c1f93d",
   "metadata": {},
   "source": [
    "#  Q4: Explain the bias-variance tradeoff in machine learning. What is the relationship between bias andvariance, and how do they affect model performance?\n",
    "There is a tradeoff between a model’s ability to minimize bias and variance which is referred to as the best solution for selecting a value of Regularization constant.\n",
    "Bias\n",
    "The bias is known as the difference between the prediction of the values by the ML model and the correct value. Being high in biasing gives a large error in training as well as testing data. Its recommended that an algorithm should always be low biased to avoid the problem of underfitting.\n",
    "By high bias, the data predicted is in a straight line format, thus not fitting accurately in the data in the data set. Such fitting is known as Underfitting of Data.\n",
    "\n",
    "\n",
    "Variance\n",
    "The variability of model prediction for a given data point which tells us spread of our data is called the variance of the model. The model with high variance has a very complex fit to the training data and thus is not able to fit accurately on the data which it hasn’t seen before. As a result, such models perform very well on training data but has high error rates on test data.\n",
    "When a model is high on variance, it is then said to as Overfitting of Data. Overfitting is fitting the training set accurately via complex curve and high order hypothesis but is not the solution as the error with unseen data is high."
   ]
  },
  {
   "cell_type": "markdown",
   "id": "4d19a25a",
   "metadata": {},
   "source": [
    "# Q5: Discuss some common methods for detecting overfitting and underfitting in machine learning models.\n",
    "Overfitting and underfitting are two common problems that can occur when training machine learning models. Overfitting occurs when a model is trained to fit the training data too well, resulting in poor generalization to new data. Underfitting occurs when a model is too simple and cannot capture the complexity of the underlying data, resulting in poor performance on both the training and test data.\n",
    "\n",
    "There are several common methods for detecting overfitting and underfitting in machine learning models:\n",
    "\n",
    "Visual inspection: One of the simplest ways to detect overfitting and underfitting is to visualize the model performance on the training and validation/test datasets. If the model performs well on the training data but poorly on the validation/test data, it is likely overfitting. If the model performs poorly on both the training and validation/test data, it is likely underfitting.\n",
    "\n",
    "Learning curves: Learning curves show the model's performance (usually accuracy or loss) on both the training and validation/test data as a function of the number of training examples. If the validation/test performance plateaus while the training performance continues to improve, the model is likely overfitting. If both the training and validation/test performance plateau at a low level, the model is likely underfitting.\n",
    "\n",
    "Regularization: Regularization is a technique used to prevent overfitting by adding a penalty term to the loss function that encourages smaller weights in the model. If adding regularization improves the performance of the model on the validation/test data, the model is likely overfitting.\n",
    "\n",
    "Cross-validation: Cross-validation is a technique used to estimate the performance of a model on new data. By dividing the data into multiple folds and training the model on each fold while evaluating it on the remaining folds, it is possible to get a better estimate of the model's generalization performance. If the model performs well on the training data but poorly on the validation/test data in each fold, it is likely overfitting. If the model performs poorly on both the training and validation/test data in each fold, it is likely underfitting."
   ]
  },
  {
   "cell_type": "markdown",
   "id": "9e667b86",
   "metadata": {},
   "source": [
    "# Q6: Compare and contrast bias and variance in machine learning. What are some examples of high bias and high variance models, and how do they differ in terms of their performance?\n",
    "\n",
    "Bias and variance are two important concepts in machine learning that describe different types of errors in a model's predictions.\n",
    "\n",
    "Bias refers to the errors that arise from a model's assumptions about the underlying data. A model with high bias is typically too simple and unable to capture the complexity of the underlying data, resulting in underfitting. In other words, a high bias model has a tendency to oversimplify the data, leading to inaccurate predictions.\n",
    "\n",
    "Examples of high bias models include linear regression models that are used to fit nonlinear data or models with few features in complex datasets.\n",
    "\n",
    "Variance, on the other hand, refers to the errors that arise from a model's sensitivity to fluctuations in the training data. A model with high variance is typically too complex and overfits the training data, resulting in poor generalization performance to new data. In other words, a high variance model is too flexible and captures noise in the training data, leading to inaccurate predictions.\n",
    "\n",
    "Examples of high variance models include decision trees with deep branches that have very few training examples in each leaf node, and neural networks with too many hidden layers for the size of the training data.\n",
    "\n",
    "The performance of high bias and high variance models differ in several ways. High bias models generally have poor performance on both the training and test data, as they are unable to capture the complexity of the underlying data. On the other hand, high variance models generally have good performance on the training data but poor performance on the test data due to overfitting. In other words, high bias models have a low variance of error but a high bias, while high variance models have a high variance of error but a low bias.\n",
    "\n",
    "The goal of machine learning is to find a balance between bias and variance that leads to good generalization performance on new data. This is often achieved through techniques such as regularization, model selection, and hyperparameter tuning."
   ]
  },
  {
   "cell_type": "markdown",
   "id": "eafbf3fe",
   "metadata": {},
   "source": [
    "# Q7: What is regularization in machine learning, and how can it be used to prevent overfitting? Describe some common regularization techniques and how they work.\n",
    "\n",
    "Regularization is a technique used in machine learning to prevent overfitting by adding a penalty term to the loss function. The goal is to reduce the complexity of the model, which in turn reduces its tendency to overfit the training data and improves its generalization performance.\n",
    "\n",
    "There are several common regularization techniques used in machine learning:\n",
    "\n",
    "L1 regularization (Lasso): L1 regularization adds a penalty term proportional to the absolute value of the weights. This results in some weights becoming exactly zero, effectively removing some features from the model. This can help to simplify the model and prevent overfitting.\n",
    "\n",
    "L2 regularization (Ridge): L2 regularization adds a penalty term proportional to the square of the weights. This results in the weights being spread out more evenly across all features, effectively reducing the impact of any single feature on the model's output. This can help to prevent overfitting by reducing the model's sensitivity to individual features.\n",
    "\n",
    "Dropout: Dropout is a regularization technique used in neural networks. It randomly drops out some neurons during training, forcing the network to learn more robust features and preventing it from overfitting to specific training examples.\n",
    "\n",
    "Early stopping: Early stopping is a simple regularization technique that stops the training process before the model has a chance to overfit the training data. This is achieved by monitoring the validation loss during training and stopping the process when the validation loss stops improving.\n",
    "\n",
    "Data augmentation: Data augmentation is a technique used to artificially increase the size of the training data by applying transformations such as rotation, translation, or scaling to the existing data. This can help to prevent overfitting by increasing the diversity of the training data and forcing the model to learn more robust features."
   ]
  },
  {
   "cell_type": "markdown",
   "id": "c1f30d48",
   "metadata": {},
   "source": [
    "# "
   ]
  }
 ],
 "metadata": {
  "kernelspec": {
   "display_name": "Python 3 (ipykernel)",
   "language": "python",
   "name": "python3"
  },
  "language_info": {
   "codemirror_mode": {
    "name": "ipython",
    "version": 3
   },
   "file_extension": ".py",
   "mimetype": "text/x-python",
   "name": "python",
   "nbconvert_exporter": "python",
   "pygments_lexer": "ipython3",
   "version": "3.10.6"
  }
 },
 "nbformat": 4,
 "nbformat_minor": 5
}
