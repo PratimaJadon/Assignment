{
 "cells": [
  {
   "cell_type": "markdown",
   "id": "3a29fa33",
   "metadata": {},
   "source": [
    "## Stastics Basic -2 \n"
   ]
  },
  {
   "cell_type": "markdown",
   "id": "8caa789d",
   "metadata": {},
   "source": [
    "Q1. What are the three measures of central tendency?\n",
    "The three most common measures of central tendency are the mode, median, and mean.\n"
   ]
  },
  {
   "cell_type": "markdown",
   "id": "b1e44b00",
   "metadata": {},
   "source": [
    "Q2. What is the difference between the mean, median, and mode? How are they used to measure the\n",
    "central tendency of a dataset?\n",
    "Mode: the most frequent value. \n",
    "Median: the middle number in an ordered data set. \n",
    "Mean: the sum of all values divided by the total number of values."
   ]
  },
  {
   "cell_type": "markdown",
   "id": "b66437af",
   "metadata": {},
   "source": [
    "Q3. Measure the three measures of central tendency for the given height data:\n",
    "[178,177,176,177,178.2,178,175,179,180,175,178.9,176.2,177,172.5,178,176.5]"
   ]
  },
  {
   "cell_type": "code",
   "execution_count": 2,
   "id": "15c8a77d",
   "metadata": {},
   "outputs": [],
   "source": [
    "height = [178,177,176,177,178.2,178,175,179,180,175,178.9,176.2,177,172.5,178,176.5]\n"
   ]
  },
  {
   "cell_type": "code",
   "execution_count": 3,
   "id": "61ec51a4",
   "metadata": {},
   "outputs": [
    {
     "data": {
      "text/plain": [
       "177.0"
      ]
     },
     "execution_count": 3,
     "metadata": {},
     "output_type": "execute_result"
    }
   ],
   "source": [
    "import numpy as np\n",
    "np.mean(height)\n",
    "np.median(height)\n"
   ]
  },
  {
   "cell_type": "code",
   "execution_count": 7,
   "id": "8629f7e7",
   "metadata": {},
   "outputs": [],
   "source": [
    "import scipy \n",
    "from scipy import stats\n"
   ]
  },
  {
   "cell_type": "code",
   "execution_count": 10,
   "id": "7e859006",
   "metadata": {},
   "outputs": [
    {
     "name": "stderr",
     "output_type": "stream",
     "text": [
      "C:\\Users\\asus\\AppData\\Local\\Temp\\ipykernel_18256\\1690947930.py:1: FutureWarning: Unlike other reduction functions (e.g. `skew`, `kurtosis`), the default behavior of `mode` typically preserves the axis it acts along. In SciPy 1.11.0, this behavior will change: the default value of `keepdims` will become False, the `axis` over which the statistic is taken will be eliminated, and the value None will no longer be accepted. Set `keepdims` to True or False to avoid this warning.\n",
      "  stats.mode(height)\n"
     ]
    },
    {
     "data": {
      "text/plain": [
       "ModeResult(mode=array([177.]), count=array([3]))"
      ]
     },
     "execution_count": 10,
     "metadata": {},
     "output_type": "execute_result"
    }
   ],
   "source": [
    "stats.mode(height)"
   ]
  },
  {
   "cell_type": "markdown",
   "id": "509fb546",
   "metadata": {},
   "source": [
    "Q4. Find the standard deviation for the given data:\n",
    "[178,177,176,177,178.2,178,175,179,180,175,178.9,176.2,177,172.5,178,176.5]"
   ]
  },
  {
   "cell_type": "code",
   "execution_count": 12,
   "id": "60c86962",
   "metadata": {},
   "outputs": [],
   "source": [
    "x= [178,177,176,177,178.2,178,175,179,180,175,178.9,176.2,177,172.5,178,176.5]\n"
   ]
  },
  {
   "cell_type": "code",
   "execution_count": 13,
   "id": "d4c98c56",
   "metadata": {},
   "outputs": [
    {
     "data": {
      "text/plain": [
       "1.7885814036548633"
      ]
     },
     "execution_count": 13,
     "metadata": {},
     "output_type": "execute_result"
    }
   ],
   "source": [
    "import numpy as np\n",
    "np.std(x)"
   ]
  },
  {
   "cell_type": "markdown",
   "id": "36f07d89",
   "metadata": {},
   "source": [
    "Q5. How are measures of dispersion such as range, variance, and standard deviation used to describe\n",
    "the spread of a dataset? Provide an example."
   ]
  },
  {
   "cell_type": "markdown",
   "id": "8eaa0a5e",
   "metadata": {},
   "source": [
    "Range\n",
    "The range is the easiest dispersion of data or measure of variability. The range can measure by subtracting the lowest value from the massive Number. \n",
    "Range = Highest_value  – Lowest_value\n",
    "\n",
    "\n",
    "Interquartile Range (IQR)\n",
    "IQR is a range (the boundary between the first and second quartile) and Q3 (the boundary between the third and fourth quartile).IQR is preferred over a range as, like a range, IQR does not influence by outliers. IQR is used to measure variability by splitting a data set into four equal quartiles.\n",
    "\n",
    "Standard Deviation\n",
    "Standard deviation is a squared root of the variance to get original values. Low standard deviation indicates data points close to mean.\n",
    "\n",
    "Variance\n",
    "Variance is a simple measure of dispersion. Variance measures how far each number in the dataset from the mean. "
   ]
  },
  {
   "cell_type": "markdown",
   "id": "ceb9bcb6",
   "metadata": {},
   "source": [
    "Q6. What is a Venn diagram?\n",
    "A diagram used to represent all possible relations of different sets. A Venn diagram can be represented by any closed figure."
   ]
  },
  {
   "cell_type": "code",
   "execution_count": null,
   "id": "3aaa0e97",
   "metadata": {},
   "outputs": [],
   "source": [
    "Q7. For the two given sets A = (2,3,4,5,6,7) & B = (0,2,6,8,10). Find:\n",
    "(i) A ⋂ B\n",
    "(ii) A ⋃ B"
   ]
  },
  {
   "cell_type": "code",
   "execution_count": 17,
   "id": "7ff81c29",
   "metadata": {},
   "outputs": [],
   "source": [
    "A = {2,3,4,5,6,7}\n",
    "B = {0,2,6,8,10}"
   ]
  },
  {
   "cell_type": "code",
   "execution_count": 18,
   "id": "85cdb8ae",
   "metadata": {},
   "outputs": [
    {
     "data": {
      "text/plain": [
       "{2, 6}"
      ]
     },
     "execution_count": 18,
     "metadata": {},
     "output_type": "execute_result"
    }
   ],
   "source": [
    "A.intersection(B)"
   ]
  },
  {
   "cell_type": "code",
   "execution_count": 19,
   "id": "db0e1bdb",
   "metadata": {},
   "outputs": [
    {
     "data": {
      "text/plain": [
       "{0, 2, 3, 4, 5, 6, 7, 8, 10}"
      ]
     },
     "execution_count": 19,
     "metadata": {},
     "output_type": "execute_result"
    }
   ],
   "source": [
    "A.union(B)"
   ]
  },
  {
   "cell_type": "markdown",
   "id": "9fb7798f",
   "metadata": {},
   "source": [
    "Q8. What do you understand about skewness in data?\n",
    "Skewness is a measurement of the distortion of symmetrical distribution or asymmetry in a data set."
   ]
  },
  {
   "cell_type": "markdown",
   "id": "13dbaece",
   "metadata": {},
   "source": [
    "Q9. If a data is right skewed then what will be the position of median with respect to mean?\n",
    "mean> median> mode    mean is at positive of median and mode."
   ]
  },
  {
   "cell_type": "markdown",
   "id": "ed6d5123",
   "metadata": {},
   "source": [
    "Q10. Explain the difference between covariance and correlation. How are these measures used in\n",
    "statistical analysis?\n",
    "A measure used to indicate the extent to which two random variables change in tandem is known as covariance.\n",
    "A measure used to represent how strongly two random variables are related known as correlation.\n",
    "Covariance is nothing but a measure of correlation. "
   ]
  },
  {
   "cell_type": "markdown",
   "id": "008b53d0",
   "metadata": {},
   "source": [
    "Q11. What is the formula for calculating the sample mean? Provide an example calculation for a\n",
    "dataset.\n",
    "x̄ = ( Σ xi ) / n\n"
   ]
  },
  {
   "cell_type": "code",
   "execution_count": 20,
   "id": "6df20d50",
   "metadata": {},
   "outputs": [
    {
     "data": {
      "text/plain": [
       "5.0"
      ]
     },
     "execution_count": 20,
     "metadata": {},
     "output_type": "execute_result"
    }
   ],
   "source": [
    "u = (0, 2, 3, 4, 5, 6, 7, 8, 10)\n",
    "np.mean(u)"
   ]
  },
  {
   "cell_type": "code",
   "execution_count": null,
   "id": "dc6e5820",
   "metadata": {},
   "outputs": [],
   "source": [
    "Q12. For a normal distribution data what is the relationship between its measure of central tendency?\n",
    " A normal distribution, data is symmetrically distributed with no skew. When plotted on a graph, the data follows a bell shape, with most values clustering around a central region and tapering off as they go further away from the center.\n",
    "\n",
    "Normal distributions are also called Gaussian distributions or bell curves because of their shape.\n"
   ]
  },
  {
   "cell_type": "markdown",
   "id": "ec2726c9",
   "metadata": {},
   "source": [
    "Q13. How is covariance different from correlation?\n",
    "Covariance just tells us about the direction (+,-,0) between two variables. \n",
    "Whereas correlation tells us about direction and strength.\n",
    "Covariance can be any number it's just the sign that we consider. But correlation is always between +1 and -1."
   ]
  },
  {
   "cell_type": "markdown",
   "id": "6f796be9",
   "metadata": {},
   "source": [
    "Q14. How do outliers affect measures of central tendency and dispersion? Provide an example.\n",
    "When a outlier is present it can effect the shape of the graph, \n",
    "if we have outliers to the right of the graph. These outliers are causing the mean to increase,\n",
    "but if we have outliers to the left of the graph these outliers are dragging down the mean.\n",
    "This causes a conflict because the mean no longer provides a good representation of the data, \n",
    "alternatively we would much rather use the median. The median on the other hand is less likely to be affect by outliers."
   ]
  },
  {
   "cell_type": "code",
   "execution_count": null,
   "id": "c3e7c7aa",
   "metadata": {},
   "outputs": [],
   "source": []
  },
  {
   "cell_type": "code",
   "execution_count": null,
   "id": "cba5b4b2",
   "metadata": {},
   "outputs": [],
   "source": []
  },
  {
   "cell_type": "code",
   "execution_count": null,
   "id": "197a2ed8",
   "metadata": {},
   "outputs": [],
   "source": []
  }
 ],
 "metadata": {
  "kernelspec": {
   "display_name": "Python 3 (ipykernel)",
   "language": "python",
   "name": "python3"
  },
  "language_info": {
   "codemirror_mode": {
    "name": "ipython",
    "version": 3
   },
   "file_extension": ".py",
   "mimetype": "text/x-python",
   "name": "python",
   "nbconvert_exporter": "python",
   "pygments_lexer": "ipython3",
   "version": "3.10.6"
  }
 },
 "nbformat": 4,
 "nbformat_minor": 5
}
