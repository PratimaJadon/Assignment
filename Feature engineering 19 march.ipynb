{
 "cells": [
  {
   "cell_type": "markdown",
   "id": "fe4e1405",
   "metadata": {},
   "source": [
    "# Q1. What is Min-Max scaling, and how is it used in data preprocessing? Provide an example to illustrate its application."
   ]
  },
  {
   "cell_type": "markdown",
   "id": "213dd833",
   "metadata": {},
   "source": [
    "Min-Max scaling, also known as normalization, is a data preprocessing technique used to transform features in a dataset to a specific range, usually between 0 and 1. The goal is to rescale the data so that it falls within a similar scale, preventing features with larger numeric ranges from dominating those with smaller ranges.\n",
    "\n"
   ]
  },
  {
   "cell_type": "code",
   "execution_count": 1,
   "id": "ae50b005",
   "metadata": {},
   "outputs": [],
   "source": [
    "import numpy as np\n",
    "import pandas as pd\n",
    "import matplotlib.pyplot as plt\n",
    "import seaborn as sns"
   ]
  },
  {
   "cell_type": "code",
   "execution_count": 2,
   "id": "4db97ec0",
   "metadata": {},
   "outputs": [],
   "source": [
    "data = {'Feature1': [2, 5, 8, 12, 6],\n",
    "        'Feature2': [20, 50, 10, 8, 25]}\n",
    "df = pd.DataFrame(data)"
   ]
  },
  {
   "cell_type": "code",
   "execution_count": 3,
   "id": "90fb82f8",
   "metadata": {},
   "outputs": [
    {
     "data": {
      "text/html": [
       "<div>\n",
       "<style scoped>\n",
       "    .dataframe tbody tr th:only-of-type {\n",
       "        vertical-align: middle;\n",
       "    }\n",
       "\n",
       "    .dataframe tbody tr th {\n",
       "        vertical-align: top;\n",
       "    }\n",
       "\n",
       "    .dataframe thead th {\n",
       "        text-align: right;\n",
       "    }\n",
       "</style>\n",
       "<table border=\"1\" class=\"dataframe\">\n",
       "  <thead>\n",
       "    <tr style=\"text-align: right;\">\n",
       "      <th></th>\n",
       "      <th>Feature1</th>\n",
       "      <th>Feature2</th>\n",
       "    </tr>\n",
       "  </thead>\n",
       "  <tbody>\n",
       "    <tr>\n",
       "      <th>0</th>\n",
       "      <td>2</td>\n",
       "      <td>20</td>\n",
       "    </tr>\n",
       "    <tr>\n",
       "      <th>1</th>\n",
       "      <td>5</td>\n",
       "      <td>50</td>\n",
       "    </tr>\n",
       "    <tr>\n",
       "      <th>2</th>\n",
       "      <td>8</td>\n",
       "      <td>10</td>\n",
       "    </tr>\n",
       "    <tr>\n",
       "      <th>3</th>\n",
       "      <td>12</td>\n",
       "      <td>8</td>\n",
       "    </tr>\n",
       "    <tr>\n",
       "      <th>4</th>\n",
       "      <td>6</td>\n",
       "      <td>25</td>\n",
       "    </tr>\n",
       "  </tbody>\n",
       "</table>\n",
       "</div>"
      ],
      "text/plain": [
       "   Feature1  Feature2\n",
       "0         2        20\n",
       "1         5        50\n",
       "2         8        10\n",
       "3        12         8\n",
       "4         6        25"
      ]
     },
     "execution_count": 3,
     "metadata": {},
     "output_type": "execute_result"
    }
   ],
   "source": [
    "df"
   ]
  },
  {
   "cell_type": "code",
   "execution_count": 5,
   "id": "38f13ef1",
   "metadata": {},
   "outputs": [],
   "source": [
    "from sklearn.preprocessing import MinMaxScaler\n",
    "scaler = MinMaxScaler()\n",
    "scaled_data = scaler.fit_transform(df)"
   ]
  },
  {
   "cell_type": "code",
   "execution_count": 6,
   "id": "59c2aabb",
   "metadata": {},
   "outputs": [
    {
     "name": "stdout",
     "output_type": "stream",
     "text": [
      "Original Data:\n",
      "   Feature1  Feature2\n",
      "0         2        20\n",
      "1         5        50\n",
      "2         8        10\n",
      "3        12         8\n",
      "4         6        25\n",
      "\n",
      "Scaled Data:\n",
      "   Feature1  Feature2\n",
      "0       0.0  0.285714\n",
      "1       0.3  1.000000\n",
      "2       0.6  0.047619\n",
      "3       1.0  0.000000\n",
      "4       0.4  0.404762\n"
     ]
    }
   ],
   "source": [
    " #Creating a DataFrame with the scaled values\n",
    "scaled_df = pd.DataFrame(scaled_data, columns=df.columns)\n",
    "\n",
    "print(\"Original Data:\")\n",
    "print(df)\n",
    "print(\"\\nScaled Data:\")\n",
    "print(scaled_df)"
   ]
  },
  {
   "cell_type": "markdown",
   "id": "41c76b9b",
   "metadata": {},
   "source": [
    "# Q2. What is the Unit Vector technique in feature scaling, and how does it differ from Min-Max scaling?Provide an example to illustrate its application."
   ]
  },
  {
   "cell_type": "markdown",
   "id": "0773b254",
   "metadata": {},
   "source": [
    "The Unit Vector technique, also known as vector normalization or unit norm scaling, is a feature scaling method that scales each feature vector to have a unit norm (i.e., a length of 1). It involves dividing each data point by the Euclidean norm of the entire feature vector. This technique is particularly useful when the direction of the data points is more important than their magnitudes."
   ]
  },
  {
   "cell_type": "code",
   "execution_count": 7,
   "id": "4da8b2be",
   "metadata": {},
   "outputs": [
    {
     "name": "stdout",
     "output_type": "stream",
     "text": [
      "Original Data:\n",
      "   Feature1  Feature2\n",
      "0         2        20\n",
      "1         8        50\n",
      "2         5        10\n",
      "3        12         8\n",
      "4         6        25\n",
      "\n",
      "Normalized Data (Unit Vector Scaling):\n",
      "   Feature1  Feature2\n",
      "0  0.099504  0.995037\n",
      "1  0.157991  0.987441\n",
      "2  0.447214  0.894427\n",
      "3  0.832050  0.554700\n",
      "4  0.233373  0.972387\n"
     ]
    }
   ],
   "source": [
    "import pandas as pd\n",
    "from sklearn.preprocessing import Normalizer\n",
    "\n",
    "# Sample dataset\n",
    "data = {'Feature1': [2, 8, 5, 12, 6],\n",
    "        'Feature2': [20, 50, 10, 8, 25]}\n",
    "\n",
    "df = pd.DataFrame(data)\n",
    "\n",
    "# Applying Unit Vector scaling\n",
    "scaler = Normalizer()\n",
    "normalized_data = scaler.fit_transform(df)\n",
    "\n",
    "# Creating a DataFrame with the normalized values\n",
    "normalized_df = pd.DataFrame(normalized_data, columns=df.columns)\n",
    "\n",
    "print(\"Original Data:\")\n",
    "print(df)\n",
    "print(\"\\nNormalized Data (Unit Vector Scaling):\")\n",
    "print(normalized_df)\n"
   ]
  },
  {
   "cell_type": "markdown",
   "id": "433812d4",
   "metadata": {},
   "source": [
    "# Q3. What is PCA (Principle Component Analysis), and how is it used in dimensionality reduction? Provide an example to illustrate its application."
   ]
  },
  {
   "cell_type": "markdown",
   "id": "df5e991b",
   "metadata": {},
   "source": [
    "Principal Component Analysis (PCA) is a dimensionality reduction technique that is commonly used in the field of machine learning and statistics. \n",
    "The primary goal of PCA is to transform a high-dimensional dataset into a new coordinate system (principal components) in such a way that the data variance is maximized along the new axes.\n",
    "This allows for a reduction in the dimensionality of the data while retaining as much of the original variability as possible."
   ]
  },
  {
   "cell_type": "markdown",
   "id": "6dc0a189",
   "metadata": {},
   "source": [
    "The principal components are linear combinations of the original features, and they are ordered by the amount of variance they capture. The first principal component (PC1) explains the most variance, followed by the second principal component (PC2), and so on.\n",
    "\n",
    "\n",
    "The steps involved in PCA are as follows:\n",
    "\n",
    "1.Standardize the data: Ensure that the features are on a similar scale by subtracting the mean and dividing by the standard deviation.\n",
    "\n",
    "2. Calculate the covariance matrix of the standardized data.\n",
    "\n",
    "\n",
    "3.Compute the eigenvectors and eigenvalues of the covariance matrix.\n",
    "\n",
    "4.Sort the eigenvectors by their corresponding eigenvalues in decreasing order.\n",
    "\n",
    "5.Choose the top  k eigenvectors to form the new feature space (where \n",
    "k is the desired number of dimensions)."
   ]
  },
  {
   "cell_type": "code",
   "execution_count": 14,
   "id": "2604a31b",
   "metadata": {},
   "outputs": [
    {
     "data": {
      "image/png": "[encoded data removed]",
      "text/plain": [
       "<Figure size 800x600 with 1 Axes>"
      ]
     },
     "metadata": {},
     "output_type": "display_data"
    }
   ],
   "source": [
    "import numpy as np\n",
    "import pandas as pd\n",
    "from sklearn.decomposition import PCA\n",
    "from sklearn.datasets import load_iris\n",
    "import matplotlib.pyplot as plt\n",
    "\n",
    "# Load the Iris dataset\n",
    "\n",
    "iris = load_iris()\n",
    "X = iris.data\n",
    "y = iris.target\n",
    "\n",
    "# Standardize the data\n",
    "X_standardized = (X - np.mean(X, axis=0)) / np.std(X, axis=0)\n",
    "\n",
    "# Apply PCA\n",
    "pca = PCA(n_components=2)\n",
    "X_pca = pca.fit_transform(X_standardized)\n",
    "\n",
    "# Create a DataFrame with the principal components\n",
    "df_pca = pd.DataFrame(data=X_pca, columns=['PC1', 'PC2'])\n",
    "df_pca['Target'] = y\n",
    "\n",
    "# Plot the data in the new 2D space\n",
    "plt.figure(figsize=(8, 6))\n",
    "targets = [0, 1, 2]\n",
    "colors = ['r', 'g', 'b']\n",
    "for target, color in zip(targets, colors):\n",
    "    indices_to_keep = df_pca['Target'] == target\n",
    "    plt.scatter(df_pca.loc[indices_to_keep, 'PC1'],\n",
    "                df_pca.loc[indices_to_keep, 'PC2'],\n",
    "                c=color,\n",
    "                label=f'Target {target}')\n",
    "\n",
    "plt.xlabel('Principal Component 1')\n",
    "plt.ylabel('Principal Component 2')\n",
    "plt.title('PCA of Iris Dataset')\n",
    "plt.legend()\n",
    "plt.show()\n"
   ]
  },
  {
   "cell_type": "markdown",
   "id": "152e34c2",
   "metadata": {},
   "source": [
    "# Q4. What is the relationship between PCA and Feature Extraction, and how can PCA be used for Feature Extraction? Provide an example to illustrate this concept."
   ]
  },
  {
   "cell_type": "markdown",
   "id": "15c4010e",
   "metadata": {},
   "source": [
    "PCA (Principal Component Analysis) is often used as a feature extraction technique, and its relationship with feature extraction lies in its ability to transform the original features into a new set of features, called principal components, which are linear combinations of the original features. Feature extraction involves selecting a subset of relevant features or transforming the existing features into a new set of features that capture the essential information in the data.\n",
    "\n",
    "Here's how PCA can be used for feature extraction:\n",
    "\n",
    "Dimensionality Reduction: PCA is primarily used for dimensionality reduction, where it identifies a lower-dimensional subspace that retains the most important information in the data. By selecting a subset of principal components, you effectively extract the most relevant features from the original set.\n",
    "\n",
    "Variance Preservation: PCA orders the principal components based on the amount of variance they capture. The first few principal components typically account for the majority of the variance in the data. By selecting these components, you focus on the aspects of the data that contribute the most to its variability."
   ]
  },
  {
   "cell_type": "code",
   "execution_count": null,
   "id": "1fed9bf1",
   "metadata": {},
   "outputs": [],
   "source": [
    "import numpy as np\n",
    "import pandas as pd\n",
    "from sklearn.decomposition import PCA\n",
    "from sklearn.datasets import load_breast_cancer\n",
    "from sklearn.model_selection import train_test_split\n",
    "from sklearn.ensemble import RandomForestClassifier\n",
    "from sklearn.metrics import accuracy_score\n",
    "\n",
    "# Load the Breast Cancer dataset\n",
    "data = load_breast_cancer()\n",
    "X = data.data\n",
    "y = data.target\n",
    "\n",
    "# Split the data into training and testing sets\n",
    "X_train, X_test, y_train, y_test = train_test_split(X, y, test_size=0.2, random_state=42)\n",
    "\n",
    "# Standardize the data\n",
    "X_train_standardized = (X_train - np.mean(X_train, axis=0)) / np.std(X_train, axis=0)\n",
    "X_test_standardized = (X_test - np.mean(X_train, axis=0)) / np.std(X_train, axis=0)\n",
    "\n",
    "# Apply PCA for feature extraction\n",
    "pca = PCA(n_components=10)  # Selecting the top 10 principal components\n",
    "X_train_pca = pca.fit_transform(X_train_standardized)\n",
    "X_test_pca = pca.transform(X_test_standardized)\n",
    "\n",
    "# Train a classifier on the original data\n",
    "clf_original = RandomForestClassifier(random_state=42)\n",
    "clf_original.fit(X_train_standardized, y_train)\n",
    "y_pred_original = clf_original.predict(X_test_standardized)\n",
    "accuracy_original = accuracy_score(y_test, y_pred_original)\n",
    "\n",
    "# Train a classifier on the PCA-transformed data\n",
    "clf_pca = RandomForestClassifier(random_state=42)\n",
    "clf_pca.fit(X_train_pca, y_train)\n",
    "y_pred_pca = clf_pca.predict(X_test_pca)\n",
    "accuracy_pca = accuracy_score(y_test, y_pred_pca)\n",
    "\n",
    "print(f'Accuracy on original data: {accuracy_original:.2f}')\n",
    "print(f'Accuracy on PCA-transformed data: {accuracy_pca:.2f}')\n"
   ]
  },
  {
   "cell_type": "code",
   "execution_count": 15,
   "id": "db7be298",
   "metadata": {},
   "outputs": [],
   "source": [
    "import numpy as np\n",
    "import pandas as pd\n",
    "from sklearn.decomposition import PCA\n",
    "from sklearn.datasets import load_breast_cancer\n",
    "from sklearn.model_selection import train_test_split\n",
    "from sklearn.ensemble import RandomForestClassifier\n",
    "from sklearn.metrics import accuracy_score"
   ]
  },
  {
   "cell_type": "code",
   "execution_count": 16,
   "id": "11026b45",
   "metadata": {},
   "outputs": [],
   "source": [
    "# Load the Breast Cancer dataset\n",
    "data = load_breast_cancer()\n",
    "X = data.data\n",
    "y = data.target"
   ]
  },
  {
   "cell_type": "code",
   "execution_count": 17,
   "id": "03ca62ca",
   "metadata": {},
   "outputs": [],
   "source": [
    "# Split the data into training and testing sets\n",
    "X_train, X_test, y_train, y_test = train_test_split(X, y, test_size=0.2, random_state=42)\n",
    "\n",
    "# Standardize the data\n",
    "X_train_standardized = (X_train - np.mean(X_train, axis=0)) / np.std(X_train, axis=0)\n",
    "X_test_standardized = (X_test - np.mean(X_train, axis=0)) / np.std(X_train, axis=0)"
   ]
  },
  {
   "cell_type": "code",
   "execution_count": 18,
   "id": "b5f031da",
   "metadata": {},
   "outputs": [],
   "source": [
    "# Apply PCA for feature extraction\n",
    "pca = PCA(n_components=10)  # Selecting the top 10 principal components\n",
    "X_train_pca = pca.fit_transform(X_train_standardized)\n",
    "X_test_pca = pca.transform(X_test_standardized)\n"
   ]
  },
  {
   "cell_type": "code",
   "execution_count": 19,
   "id": "8dac27ec",
   "metadata": {},
   "outputs": [
    {
     "name": "stdout",
     "output_type": "stream",
     "text": [
      "Accuracy on original data: 0.96\n",
      "Accuracy on PCA-transformed data: 0.95\n"
     ]
    }
   ],
   "source": [
    "# Train a classifier on the original data\n",
    "clf_original = RandomForestClassifier(random_state=42)\n",
    "clf_original.fit(X_train_standardized, y_train)\n",
    "y_pred_original = clf_original.predict(X_test_standardized)\n",
    "accuracy_original = accuracy_score(y_test, y_pred_original)\n",
    "\n",
    "# Train a classifier on the PCA-transformed data\n",
    "clf_pca = RandomForestClassifier(random_state=42)\n",
    "clf_pca.fit(X_train_pca, y_train)\n",
    "y_pred_pca = clf_pca.predict(X_test_pca)\n",
    "accuracy_pca = accuracy_score(y_test, y_pred_pca)\n",
    "\n",
    "print(f'Accuracy on original data: {accuracy_original:.2f}')\n",
    "print(f'Accuracy on PCA-transformed data: {accuracy_pca:.2f}')"
   ]
  },
  {
   "cell_type": "markdown",
   "id": "7f774ad2",
   "metadata": {},
   "source": [
    "# Q5. You are working on a project to build a recommendation system for a food delivery service. The dataset contains features such as price, rating, and delivery time. Explain how you would use Min-Max scaling topreprocess the data."
   ]
  },
  {
   "cell_type": "markdown",
   "id": "5aa996d9",
   "metadata": {},
   "source": [
    "import numpy as np\n",
    "\n",
    "import pandas as pd\n",
    "\n",
    "price= [20,23,34,45,44]\n",
    "\n",
    "rating = [5,3,4,3,4]\n",
    "\n",
    "delievery_time = [10,12,12,13,13]\n",
    "\n",
    "\n",
    "features = df[[price,rating,delievery_time]]\n",
    "\n",
    "from sklearn.preprocessing import MinMaxScaler\n",
    "Scaler = MinMaxScaler()\n",
    "scaled_features = Scaler.fit_transform(features)"
   ]
  },
  {
   "cell_type": "markdown",
   "id": "6925571a",
   "metadata": {},
   "source": [
    "# Q6. You are working on a project to build a model to predict stock prices. The dataset contains many features, such as company financial data and market trends. Explain how you would use PCA to reduce the dimensionality of the dataset."
   ]
  },
  {
   "cell_type": "markdown",
   "id": "47b3074b",
   "metadata": {},
   "source": [
    "Principal Component Analysis (PCA) is a technique commonly used for dimensionality reduction in datasets with a large number of features. In the context of building a model to predict stock prices, where the dataset includes various features like company financial data and market trends, PCA can help simplify the dataset while retaining the most important information. Here's a step-by-step explanation of how you might use PCA in this scenario:\n",
    "\n",
    "Understand the Dataset:\n",
    "Begin by thoroughly understanding the dataset, including the features related to company financial data and market trends. Identify the goals of the analysis and the features that are most relevant to predicting stock prices.\n",
    "\n",
    "Standardize the Data:\n",
    "Standardization is important in PCA because it ensures that all the features are on the same scale. This involves subtracting the mean and dividing by the standard deviation for each feature.\n",
    "\n",
    "Calculate Covariance Matrix:\n",
    "PCA works by finding the covariance matrix of the dataset. The covariance matrix describes the relationships between all pairs of features, indicating how much they vary together.\n",
    "\n",
    "Compute Eigenvectors and Eigenvalues:\n",
    "The next step is to calculate the eigenvectors and eigenvalues of the covariance matrix. Eigenvectors represent the directions of maximum variance, and eigenvalues indicate the magnitude of variance along those directions.\n",
    "\n",
    "Sort Eigenvalues:\n",
    "Arrange the eigenvalues in descending order. The eigenvectors associated with the highest eigenvalues contain the most significant information about the variance in the data.\n",
    "\n",
    "Select Principal Components:\n",
    "Decide on the number of principal components (eigenvectors) to retain. You may choose a number that explains a sufficiently high percentage of the total variance (e.g., 95% or 99%).\n",
    "\n",
    "Projection:\n",
    "Project the original data onto the selected principal components. This involves multiplying the standardized data by the selected eigenvectors.\n",
    "\n",
    "Create a Reduced-Dimension Dataset:\n",
    "Form a new dataset using the projected values on the selected principal components. This dataset will have fewer dimensions than the original one.\n",
    "\n",
    "Modeling:\n",
    "Use the reduced-dimension dataset in your stock price prediction model. This can potentially improve model performance by focusing on the most informative features.\n",
    "\n",
    "Evaluate and Iterate:\n",
    "Evaluate the performance of your model and iterate as needed. You might need to experiment with the number of principal components to find the right balance between dimensionality reduction and preserving information relevant to stock price prediction."
   ]
  },
  {
   "cell_type": "markdown",
   "id": "c37c4619",
   "metadata": {},
   "source": [
    "# Q7. For a dataset containing the following values: [1, 5, 10, 15, 20], perform Min-Max scaling to transform the values to a range of -1 to 1."
   ]
  },
  {
   "cell_type": "markdown",
   "id": "2c285d76",
   "metadata": {},
   "source": [
    "Min-Max scaling is a common technique used to scale numerical features to a specific range. The formula for Min-Max scaling is given by:\n",
    "\n",
    "�\n",
    "scaled\n",
    "=\n",
    "�\n",
    "−\n",
    "min\n",
    "(\n",
    "�\n",
    ")\n",
    "max\n",
    "(\n",
    "�\n",
    ")\n",
    "−\n",
    "min\n",
    "(\n",
    "�\n",
    ")\n",
    "×\n",
    "(\n",
    "max range\n",
    "−\n",
    "min range\n",
    ")\n",
    "+\n",
    "min range\n",
    "X \n",
    "scaled\n",
    "​\n",
    " = \n",
    "max(X)−min(X)\n",
    "X−min(X)\n",
    "​\n",
    " ×(max range−min range)+min range"
   ]
  },
  {
   "cell_type": "code",
   "execution_count": 28,
   "id": "ec3cb0d8",
   "metadata": {},
   "outputs": [],
   "source": [
    "import numpy as np\n",
    "import pandas as pd\n",
    "import matplotlib.pyplot as plt\n",
    "import seaborn as sns"
   ]
  },
  {
   "cell_type": "code",
   "execution_count": 36,
   "id": "776d56ac",
   "metadata": {},
   "outputs": [],
   "source": [
    "x = [1,5,10,15,20]"
   ]
  },
  {
   "cell_type": "code",
   "execution_count": 38,
   "id": "e4019bc3",
   "metadata": {},
   "outputs": [],
   "source": [
    "x1 = pd.DataFrame(x)"
   ]
  },
  {
   "cell_type": "code",
   "execution_count": 39,
   "id": "8cf1a7a5",
   "metadata": {},
   "outputs": [
    {
     "data": {
      "text/html": [
       "<div>\n",
       "<style scoped>\n",
       "    .dataframe tbody tr th:only-of-type {\n",
       "        vertical-align: middle;\n",
       "    }\n",
       "\n",
       "    .dataframe tbody tr th {\n",
       "        vertical-align: top;\n",
       "    }\n",
       "\n",
       "    .dataframe thead th {\n",
       "        text-align: right;\n",
       "    }\n",
       "</style>\n",
       "<table border=\"1\" class=\"dataframe\">\n",
       "  <thead>\n",
       "    <tr style=\"text-align: right;\">\n",
       "      <th></th>\n",
       "      <th>0</th>\n",
       "    </tr>\n",
       "  </thead>\n",
       "  <tbody>\n",
       "    <tr>\n",
       "      <th>0</th>\n",
       "      <td>1</td>\n",
       "    </tr>\n",
       "    <tr>\n",
       "      <th>1</th>\n",
       "      <td>5</td>\n",
       "    </tr>\n",
       "    <tr>\n",
       "      <th>2</th>\n",
       "      <td>10</td>\n",
       "    </tr>\n",
       "    <tr>\n",
       "      <th>3</th>\n",
       "      <td>15</td>\n",
       "    </tr>\n",
       "    <tr>\n",
       "      <th>4</th>\n",
       "      <td>20</td>\n",
       "    </tr>\n",
       "  </tbody>\n",
       "</table>\n",
       "</div>"
      ],
      "text/plain": [
       "    0\n",
       "0   1\n",
       "1   5\n",
       "2  10\n",
       "3  15\n",
       "4  20"
      ]
     },
     "execution_count": 39,
     "metadata": {},
     "output_type": "execute_result"
    }
   ],
   "source": [
    "x1"
   ]
  },
  {
   "cell_type": "code",
   "execution_count": 31,
   "id": "63dea8f7",
   "metadata": {},
   "outputs": [],
   "source": [
    "from sklearn.preprocessing import MinMaxScaler\n",
    "from sklearn.preprocessing import StandardScaler"
   ]
  },
  {
   "cell_type": "code",
   "execution_count": 40,
   "id": "621b0038",
   "metadata": {},
   "outputs": [
    {
     "data": {
      "text/plain": [
       "array([[0.        ],\n",
       "       [0.21052632],\n",
       "       [0.47368421],\n",
       "       [0.73684211],\n",
       "       [1.        ]])"
      ]
     },
     "execution_count": 40,
     "metadata": {},
     "output_type": "execute_result"
    }
   ],
   "source": [
    "min_max = MinMaxScaler()\n",
    "min_max.fit_transform(x1)"
   ]
  },
  {
   "cell_type": "markdown",
   "id": "a306e3f6",
   "metadata": {},
   "source": [
    "# Q8. For a dataset containing the following features: [height, weight, age, gender, blood pressure], perform Feature Extraction using PCA. How many principal components would you choose to retain, and why?"
   ]
  },
  {
   "cell_type": "markdown",
   "id": "3cd03453",
   "metadata": {},
   "source": [
    "\n",
    "The decision of how many principal components to retain in PCA depends on the level of variance you want to preserve in your data. Retaining a higher number of principal components allows you to capture more variance but increases the dimensionality of your dataset. On the other hand, retaining fewer components reduces dimensionality but might lead to a loss of information."
   ]
  },
  {
   "cell_type": "code",
   "execution_count": 41,
   "id": "897103ed",
   "metadata": {},
   "outputs": [],
   "source": [
    "import numpy as np\n",
    "import pandas as pd\n",
    "import matplotlib.pyplot as plt\n",
    "import seaborn as sns\n"
   ]
  },
  {
   "cell_type": "code",
   "execution_count": 55,
   "id": "7f0e1a3f",
   "metadata": {},
   "outputs": [],
   "source": [
    "X= ['height', 'weight', 'age', 'gender','blood_pressure']\n"
   ]
  },
  {
   "cell_type": "code",
   "execution_count": 54,
   "id": "c36c149b",
   "metadata": {},
   "outputs": [],
   "source": [
    "from sklearn.decomposition import PCA"
   ]
  },
  {
   "cell_type": "code",
   "execution_count": 59,
   "id": "1967b4e6",
   "metadata": {},
   "outputs": [],
   "source": [
    "X_standardized = ( X- np.mean(X, axis=0)) / np.std(X, axis=0)\n",
    "\n",
    "# Apply PCA\n",
    "pca = PCA(n_components=2)\n",
    "X_pca = pca.fit_transform(X_standardized)\n",
    "\n",
    "# Create a DataFrame with the principal components\n",
    "df_pca = pd.DataFrame(data=X_pca, columns=['X1','X2'])\n",
    "df_pca['Target'] = y\n"
   ]
  },
  {
   "cell_type": "code",
   "execution_count": null,
   "id": "0afefcfe",
   "metadata": {},
   "outputs": [],
   "source": []
  }
 ],
 "metadata": {
  "kernelspec": {
   "display_name": "Python 3 (ipykernel)",
   "language": "python",
   "name": "python3"
  },
  "language_info": {
   "codemirror_mode": {
    "name": "ipython",
    "version": 3
   },
   "file_extension": ".py",
   "mimetype": "text/x-python",
   "name": "python",
   "nbconvert_exporter": "python",
   "pygments_lexer": "ipython3",
   "version": "3.10.6"
  }
 },
 "nbformat": 4,
 "nbformat_minor": 5
}
