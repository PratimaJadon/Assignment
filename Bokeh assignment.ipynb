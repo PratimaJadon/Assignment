{
 "cells": [
  {
   "cell_type": "markdown",
   "id": "5baae754",
   "metadata": {},
   "source": [
    "# Bokeh Assignment questions"
   ]
  },
  {
   "cell_type": "markdown",
   "id": "81ecec78",
   "metadata": {},
   "source": [
    "Q1. How can you create a Bokeh plot using Python code?"
   ]
  },
  {
   "cell_type": "code",
   "execution_count": 1,
   "id": "ae33796a",
   "metadata": {},
   "outputs": [],
   "source": [
    "from bokeh.plotting import figure , output_file , show\n",
    "\n",
    "\n",
    "output_file(\"line.html\")\n",
    "x = [1,2,3,4,5,6]\n",
    "y = [6,7,4,5,9,2]\n",
    "p = figure(title = 'line graph')\n",
    "p.xaxis.axis_label = '  x axis'\n",
    "p.yaxis.axis_label = 'y axis'\n",
    "p.line(x,y)\n",
    "show(p) "
   ]
  },
  {
   "cell_type": "markdown",
   "id": "3285134f",
   "metadata": {},
   "source": [
    "Q2. What are glyphs in Bokeh, and how can you add them to a Bokeh plot? Explain with an example."
   ]
  },
  {
   "cell_type": "markdown",
   "id": "11759f8f",
   "metadata": {},
   "source": [
    "A plot consists of geometric shapes either in the form of a line, circle, etc. \n",
    "So, Glyphs are nothing but visual shapes that are drawn to represent the data such as circles, squares, lines, rectangles, etc.\n",
    "\n",
    "\n"
   ]
  },
  {
   "cell_type": "code",
   "execution_count": 2,
   "id": "602c185a",
   "metadata": {},
   "outputs": [],
   "source": [
    "\n",
    "from bokeh.plotting import figure, show, output_file\n",
    "a = [1, 2, 3, 4, 5, 6, 7, 8, 9, 10]\n",
    "b = [2, 4, 6, 8, 10, 12, 14, 10, 16, 23]\n",
    "my_plot = figure(title=\" line chart\", x_axis_label=\"X-Axis\", y_axis_label=\"Y-Axis\")\n",
    "\n",
    "my_plot.line(a, b, line_width=3)\n",
    "\n",
    "output_file(\"line.html\")\n",
    "\n",
    "show(my_plot)"
   ]
  },
  {
   "cell_type": "code",
   "execution_count": 4,
   "id": "e6ffd112",
   "metadata": {},
   "outputs": [],
   "source": [
    "from bokeh.plotting import figure, show\n",
    "from bokeh.io import output_file\n",
    "\n",
    "x = [1, 2, 4, 6, 7]\n",
    "y = [7, 6, 3, 9, 10]\n",
    "\n",
    "p = figure(title=\"Circle Glyph\")\n",
    "\n",
    "# create circle glyph\n",
    "p.circle(x=x, y=y, size=25, fill_color=\"red\")\n",
    "p.circle_cross(x=[2, 4, 6, 8], y=[5, 8, 9, 11], size=25,fill_color=\"blue\", fill_alpha=0.3, line_width=2)\n",
    "p.circle_x(x=[4, 7, 2, 6], y=[7, 2, 4, 9], size=25,fill_color=\"green\", fill_alpha=0.6, line_width=2)\n",
    "\n",
    "# show the results\n",
    "output_file('circle.html')\n",
    "show(p)\n"
   ]
  },
  {
   "cell_type": "markdown",
   "id": "af8a7e0f",
   "metadata": {},
   "source": [
    "Q3. How can you customize the appearance of a Bokeh plot, including the axes, title, and legend?"
   ]
  },
  {
   "cell_type": "code",
   "execution_count": 5,
   "id": "d23ff3c6",
   "metadata": {},
   "outputs": [],
   "source": [
    "# import module\n",
    "from bokeh.plotting import figure, show\n",
    "\n",
    "# create data\n",
    "currentList = [1, 2, 3, 4, 5]\n",
    "List1 = [i*2 for i in currentList]\n",
    "List2 = [i+2 for i in currentList]\n",
    "\n",
    "# plot data\n",
    "plots = figure(title=\"Legend Customization\")\n",
    "\n",
    "line = plots.line(currentList,List1,legend_label=\"Arrays .\",line_color=\"blue\",line_width=2)\n",
    "\n",
    "circle = plots.circle(currentList,List2,legend_label=\"List\",fill_color=\"black\",fill_alpha=0.5,line_color=\"blue\",size=40,)\n",
    "\n",
    "# display legend in top left corner\n",
    "plots.legend.location = \"top_right\"\n",
    "\n",
    "#give title to legend\n",
    "plots.legend.title = \"Observation of plot\"\n",
    "\n",
    "#customize legend appearance\n",
    "plots.legend.label_text_font = \"times\"\n",
    "plots.legend.label_text_font_style = \"bold\"\n",
    "plots.legend.label_text_color = \"black\"\n",
    "\n",
    "# customize border and background of legend\n",
    "plots.legend.border_line_width = 9\n",
    "plots.legend.border_line_color = \"green\"\n",
    "plots.legend.border_line_alpha = 0.7\n",
    "plots.legend.background_fill_color = \"magenta\"\n",
    "plots.legend.background_fill_alpha = 0.2\n",
    "\n",
    "show(plots)\n"
   ]
  },
  {
   "cell_type": "markdown",
   "id": "130086b1",
   "metadata": {},
   "source": [
    "Q4. What is a Bokeh server, and how can you use it to create interactive plots that can be updated in\n",
    "real time?"
   ]
  },
  {
   "cell_type": "markdown",
   "id": "5434cb27",
   "metadata": {},
   "source": [
    "Bokeh server makes it easy to create interactive web applications that connect front-end UI events to running Python code.\n",
    "\n",
    "Bokeh creates high-level Python models, such as plots, ranges, axes, and glyphs, and then converts these objects to JSON to pass them to its client library, BokehJS\n",
    "\n",
    "The primary purpose of the Bokeh server is to synchronize data between the underlying Python environment and the BokehJS library running in the browser."
   ]
  },
  {
   "cell_type": "markdown",
   "id": "e1fa146d",
   "metadata": {},
   "source": [
    "Q5. How can you embed a Bokeh plot into a web page or dashboard using Flask or Django?"
   ]
  },
  {
   "cell_type": "markdown",
   "id": "81d1bba5",
   "metadata": {},
   "source": [
    "Step 1: Setting up a basic Django project   pip install django \n",
    "Step 2: Create the Django project  \n",
    "Create a Django project using the following command:\n",
    "django-admin startproject BokehDjango\n",
    "\n",
    "\n",
    "Step 3:Complete Bokeh Setup into our project:\n",
    "Go to your python shell and check the version of Bokeh as:\n",
    "bokeh.__version__\n",
    "\n"
   ]
  },
  {
   "cell_type": "markdown",
   "id": "e8113dcc",
   "metadata": {},
   "source": [
    "To embed a Bokeh plot into a web page or dashboard using Flask or Django, you can follow these general steps:\n",
    "\n",
    "Install the necessary libraries: Ensure that you have Flask or Django and Bokeh installed in your Python environment.\n",
    "\n",
    "Create a Flask or Django application: Set up a Flask or Django application according to the framework you prefer. This typically involves creating the necessary files and directory structure.\n",
    "\n",
    "Generate the Bokeh plot: Use Bokeh to create the plot you want to embed. You can define the plot using the Bokeh API and customize it as desired.\n",
    "\n",
    "Create a route or view: In Flask or Django, define a route or view that will handle the request to display the plot. This is the endpoint that will render the HTML template containing the plot.\n",
    "\n",
    "Render the plot in an HTML template: Create an HTML template (e.g., using Jinja templates in Flask or Django's template engine) that will contain the necessary JavaScript and HTML code to embed the Bokeh plot.\n",
    "\n",
    "Pass data to the template: If your plot requires dynamic data, make sure to pass the necessary data to the template. You can do this by using Flask or Django's template rendering capabilities and passing the data as a variable to the template.\n",
    "\n",
    "Embed the Bokeh plot in the template: In the HTML template, include the necessary JavaScript and HTML code to embed the Bokeh plot. Bokeh provides options to generate JavaScript and HTML snippets for embedding plots. You can typically find these snippets in the Bokeh documentation.\n",
    "\n",
    "Render the template: In the Flask route or Django view, render the HTML template with the embedded Bokeh plot. Pass any required data to the template as context variables.\n",
    "\n",
    "Start the Flask or Django server: Run your Flask or Django application, and access the route or view that you defined. The web page or dashboard should display the embedded Bokeh plot."
   ]
  }
 ],
 "metadata": {
  "kernelspec": {
   "display_name": "Python 3 (ipykernel)",
   "language": "python",
   "name": "python3"
  },
  "language_info": {
   "codemirror_mode": {
    "name": "ipython",
    "version": 3
   },
   "file_extension": ".py",
   "mimetype": "text/x-python",
   "name": "python",
   "nbconvert_exporter": "python",
   "pygments_lexer": "ipython3",
   "version": "3.10.6"
  }
 },
 "nbformat": 4,
 "nbformat_minor": 5
}
